{
 "cells": [
  {
   "cell_type": "markdown",
   "metadata": {},
   "source": [
    "### Introduction to The series"
   ]
  },
  {
   "cell_type": "markdown",
   "metadata": {},
   "source": [
    "In these series of publications I am going to dive into introductory topics of the field of reinforcement learning. I will be following Richard Suttons great text \"Reinforcement Learning an Introduction\" the 2nd Edition. This book starts from the very basics and works all the way up to state of the art research topics. For the first few chapters of the series I will follow Suttons book directly and then might diverge as different topics come up. I am not an expert of the field and am currently in the process of trying to understand fundamental topics within RL. So with that in mind I plan on spending a decent amount of trying to develop experiements and visualizations that help illuminate some of the fundamental topics within the book and the field in general"
   ]
  },
  {
   "cell_type": "markdown",
   "metadata": {},
   "source": [
    "Outline of series:"
   ]
  }
 ],
 "metadata": {
  "kernelspec": {
   "display_name": "DeepRL",
   "language": "python",
   "name": "deeprl"
  },
  "language_info": {
   "codemirror_mode": {
    "name": "ipython",
    "version": 3
   },
   "file_extension": ".py",
   "mimetype": "text/x-python",
   "name": "python",
   "nbconvert_exporter": "python",
   "pygments_lexer": "ipython3",
   "version": "3.6.5"
  }
 },
 "nbformat": 4,
 "nbformat_minor": 4
}
